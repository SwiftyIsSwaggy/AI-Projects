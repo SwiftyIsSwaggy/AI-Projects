{
 "cells": [
  {
   "cell_type": "markdown",
   "metadata": {},
   "source": [
    "# The Notebook to test the Models\n",
    "## Uses the training images from Arpit Jadon's work\n",
    "### Images are downloaded to disk."
   ]
  },
  {
   "cell_type": "code",
   "execution_count": null,
   "metadata": {},
   "outputs": [],
   "source": [
    "#Create the notebook to test the accuracy and judgement on data never seen before.\n",
    "import os\n",
    "import cv2\n",
    "import numpy as np\n",
    "from tqdm import tqdm\n",
    "import matplotlib.pyplot as plt\n",
    "from sklearn.metrics import confusion_matrix \n",
    "import itertools"
   ]
  },
  {
   "cell_type": "code",
   "execution_count": null,
   "metadata": {},
   "outputs": [],
   "source": [
    "#DATADIR = r'D:\\EDU Files\\project\\fire\\MNet_Vgg Fire tuning\\BowFire_Data'\n",
    "DATADIR = r'D:\\EDU Files\\project\\fire\\MNet_Vgg Fire tuning\\data_without_BoWFire_With_NSDataset\\test'\n",
    "\n",
    "CATEGORIES = ['Fire', 'Non_Fire']"
   ]
  },
  {
   "cell_type": "code",
   "execution_count": null,
   "metadata": {},
   "outputs": [],
   "source": [
    "IMG_SIZE = 128\n",
    "def create_training_data():\n",
    "    training_data = []\n",
    "    for category in CATEGORIES:  \n",
    "\n",
    "        path = os.path.join(DATADIR,category) \n",
    "        class_num = CATEGORIES.index(category)  # get the classification  (0 or a 1). 0=C 1=O\n",
    "\n",
    "        for img in tqdm(os.listdir(path)):  # iterate over each image\n",
    "            try:\n",
    "                img_array = cv2.imread(os.path.join(path,img))  # convert to array\n",
    "                new_array = cv2.resize(img_array, (IMG_SIZE, IMG_SIZE))  # resize to normalize data size\n",
    "                training_data.append([new_array, class_num])  # add this to our training_data\n",
    "            except Exception as e:  # in the interest in keeping the output clean...\n",
    "                pass\n",
    "              \n",
    "    return training_data"
   ]
  },
  {
   "cell_type": "code",
   "execution_count": null,
   "metadata": {},
   "outputs": [],
   "source": [
    "training_data = create_training_data()"
   ]
  },
  {
   "cell_type": "code",
   "execution_count": null,
   "metadata": {},
   "outputs": [],
   "source": [
    "import random\n",
    "test_image_num=58704\n",
    "print(len(training_data))\n",
    "random.shuffle(training_data)\n",
    "test_labels=np.zeros((test_image_num,1))\n",
    "\n",
    "c=0\n",
    "for sample in training_data:\n",
    "    test_labels[c]=(sample[1])\n",
    "    c+=1\n",
    "print(c)\n",
    "actual_labels=(test_labels.reshape(test_image_num,))\n",
    "print(actual_labels.shape)\n",
    "actual_labels.astype(int)"
   ]
  },
  {
   "cell_type": "code",
   "execution_count": null,
   "metadata": {},
   "outputs": [],
   "source": [
    "X = []\n",
    "Y = []\n",
    "\n",
    "for features,label in training_data:\n",
    "    X.append(features)\n",
    "    Y.append(label)\n",
    "\n",
    "X = np.array(X).reshape(-1, IMG_SIZE, IMG_SIZE, 3)\n",
    "X = X/255.0\n",
    "X.shape[1:]"
   ]
  },
  {
   "cell_type": "code",
   "execution_count": null,
   "metadata": {},
   "outputs": [],
   "source": [
    "from keras.models import load_model\n",
    "model=load_model('D:\\EDU Files\\project\\fire\\MNet_Vgg Fire tuning\\AJAK_Work_Most_Recent_Work\\Omama_Work\\Fire-64x64_new_train1_our.h5')"
   ]
  },
  {
   "cell_type": "code",
   "execution_count": null,
   "metadata": {},
   "outputs": [],
   "source": [
    "predicted_labels=model.predict_classes(X)\n",
    "#In final logic, use model.predict to predict the probability\n",
    "predicted_labels=(predicted_labels.reshape(test_image_num,))\n",
    "predicted_labels.astype(int)"
   ]
  },
  {
   "cell_type": "code",
   "execution_count": null,
   "metadata": {},
   "outputs": [],
   "source": [
    "#Print Classification Report and Confusion Matrix\n",
    "#Confusion Matrix and Classification Report\n",
    "Y_pred = model.predict(val_data_gen, int(np.ceil(val_data_gen.n / float(batch_size))))\n",
    "y_pred = np.argmax(Y_pred, axis=1)\n",
    "print('Confusion Matrix')\n",
    "print(confusion_matrix(val_data_gen.classes, y_pred))\n",
    "print('Classification Report')\n",
    "target_names = ['Fire', 'No Fire']\n",
    "print(classification_report(val_data_gen.classes, y_pred, target_names=target_names))"
   ]
  }
 ],
 "metadata": {
  "language_info": {
   "name": "python"
  },
  "orig_nbformat": 4
 },
 "nbformat": 4,
 "nbformat_minor": 2
}
